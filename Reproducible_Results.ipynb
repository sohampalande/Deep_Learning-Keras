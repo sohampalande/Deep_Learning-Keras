{
  "nbformat": 4,
  "nbformat_minor": 0,
  "metadata": {
    "colab": {
      "name": "Reproducible_Results.ipynb",
      "provenance": [],
      "collapsed_sections": [],
      "include_colab_link": true
    },
    "kernelspec": {
      "name": "python3",
      "display_name": "Python 3"
    }
  },
  "cells": [
    {
      "cell_type": "markdown",
      "metadata": {
        "id": "view-in-github",
        "colab_type": "text"
      },
      "source": [
        "<a href=\"https://colab.research.google.com/github/sohampalande/Deep_Learning-Keras/blob/master/Reproducible_Results.ipynb\" target=\"_parent\"><img src=\"https://colab.research.google.com/assets/colab-badge.svg\" alt=\"Open In Colab\"/></a>"
      ]
    },
    {
      "cell_type": "markdown",
      "metadata": {
        "id": "akgzoZS_DKf1",
        "colab_type": "text"
      },
      "source": [
        "**Reproducible Results**\n",
        "- Our model may yield different results everytime even though it is trained on the same exact training data with the the same architecture\n",
        "- This is due to the random initialization of the weights in the network. The weights will be intilized to different random values each time it is run and thus the optimization algorithm may converge on optimal values of weights that are different from those produced earlier (local optima)\n",
        "- To avoid this and get reproducible results, we essentially \"strip\" the randomness by setting a ***random seed*** to any given number before building the model. This seed ensures that the random variables in the model are generated in the same exact manner everytime\n"
      ]
    },
    {
      "cell_type": "code",
      "metadata": {
        "id": "aADXWV0h-sgm",
        "colab_type": "code",
        "colab": {}
      },
      "source": [
        "import numpy as np\n",
        "import tensorflow as tf\n",
        "import random as rn"
      ],
      "execution_count": 0,
      "outputs": []
    },
    {
      "cell_type": "code",
      "metadata": {
        "id": "YSot5-noDKRr",
        "colab_type": "code",
        "colab": {}
      },
      "source": [
        "import os \n",
        "os.environ['PYTHONHASHSEED']='0'  #necessary for reproducibility with any hash based algorithms\n"
      ],
      "execution_count": 0,
      "outputs": []
    },
    {
      "cell_type": "code",
      "metadata": {
        "id": "Y6W3VG49FCzW",
        "colab_type": "code",
        "colab": {}
      },
      "source": [
        "#set seed for numpy-generated random numbers\n",
        "np.random.seed(37)\n"
      ],
      "execution_count": 0,
      "outputs": []
    },
    {
      "cell_type": "code",
      "metadata": {
        "id": "BwM5PfPeFJ7-",
        "colab_type": "code",
        "colab": {}
      },
      "source": [
        "#set seed for python generated random numbers\n",
        "rn.seed(23)\n"
      ],
      "execution_count": 0,
      "outputs": []
    },
    {
      "cell_type": "code",
      "metadata": {
        "id": "3iQNzx-YFQwV",
        "colab_type": "code",
        "colab": {}
      },
      "source": [
        "#set seed for tensorflow random numbers\n",
        "tf.set_random_seed(42)\n"
      ],
      "execution_count": 0,
      "outputs": []
    },
    {
      "cell_type": "code",
      "metadata": {
        "id": "6EpSsP8cFadF",
        "colab_type": "code",
        "colab": {}
      },
      "source": [
        "from keras import backend as k\n",
        "#force tensorflow to use a single thread because using multiple threads are a source of non-reproducible results\n",
        "#code from documentation\n",
        "sess=tf.Session(graph=tf.get_default_graph())\n",
        "k.set_session(sess)\n"
      ],
      "execution_count": 0,
      "outputs": []
    },
    {
      "cell_type": "code",
      "metadata": {
        "id": "IYIgKZKGFdDX",
        "colab_type": "code",
        "colab": {}
      },
      "source": [
        "#createand train  model below\n"
      ],
      "execution_count": 0,
      "outputs": []
    }
  ]
}