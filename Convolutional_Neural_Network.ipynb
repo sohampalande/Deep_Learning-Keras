{
  "nbformat": 4,
  "nbformat_minor": 0,
  "metadata": {
    "colab": {
      "name": "Convolutional_Neural_Network.ipynb",
      "provenance": [],
      "collapsed_sections": [],
      "include_colab_link": true
    },
    "kernelspec": {
      "name": "python3",
      "display_name": "Python 3"
    },
    "accelerator": "GPU"
  },
  "cells": [
    {
      "cell_type": "markdown",
      "metadata": {
        "id": "view-in-github",
        "colab_type": "text"
      },
      "source": [
        "<a href=\"https://colab.research.google.com/github/sohampalande/Deep_Learning-Keras/blob/master/Convolutional_Neural_Network.ipynb\" target=\"_parent\"><img src=\"https://colab.research.google.com/assets/colab-badge.svg\" alt=\"Open In Colab\"/></a>"
      ]
    },
    {
      "cell_type": "markdown",
      "metadata": {
        "id": "34Gz2XcteoC3",
        "colab_type": "text"
      },
      "source": [
        "**Import** **Packages**"
      ]
    },
    {
      "cell_type": "code",
      "metadata": {
        "id": "wK_6I6ot23kZ",
        "colab_type": "code",
        "colab": {}
      },
      "source": [
        "import keras\n",
        "from keras.datasets import mnist\n",
        "from keras.models import Sequential\n",
        "from keras.layers import Dense, Flatten, Conv2D, MaxPooling2D\n",
        "from keras import backend as K\n",
        "\n",
        "#Constants\n",
        "batch_size=128\n",
        "num_classes=10\n",
        "epochs=12\n",
        "img_rows,img_cols=28,28\n",
        "channels=1\n"
      ],
      "execution_count": 0,
      "outputs": []
    },
    {
      "cell_type": "markdown",
      "metadata": {
        "id": "DWMx47b-ewbO",
        "colab_type": "text"
      },
      "source": [
        "**Preprocess the Data**"
      ]
    },
    {
      "cell_type": "code",
      "metadata": {
        "id": "HDcfTE3S4JZ9",
        "colab_type": "code",
        "colab": {}
      },
      "source": [
        "#Load In Data\n",
        "(x_train,y_train),(x_test,y_test)=mnist.load_data()\n",
        "\n",
        "#Normalize and Format Data\n",
        "x_train = x_train.reshape(x_train.shape[0], img_rows, img_cols, channels).astype(\"float32\") / 255\n",
        "x_test = x_test.reshape(x_test.shape[0], img_rows, img_cols, channels).astype(\"float32\") / 255\n",
        "image_shape=(img_rows, img_cols, channels)\n",
        "\n",
        "#One hot Encoding\n",
        "y_train=keras.utils.to_categorical(y_train, num_classes)\n",
        "y_test=keras.utils.to_categorical(y_test, num_classes)\n",
        "\n"
      ],
      "execution_count": 0,
      "outputs": []
    },
    {
      "cell_type": "markdown",
      "metadata": {
        "id": "GYx7IPukfMbv",
        "colab_type": "text"
      },
      "source": [
        "**Build Model**"
      ]
    },
    {
      "cell_type": "code",
      "metadata": {
        "id": "8e9IiEso6vza",
        "colab_type": "code",
        "colab": {}
      },
      "source": [
        "#Build model\n",
        "model=Sequential()\n",
        "model.add(Conv2D(32, kernel_size=(3,3), activation='relu',input_shape=image_shape))\n",
        "model.add(Conv2D(32, kernel_size=(3,3), activation='relu'))\n",
        "model.add(MaxPooling2D(pool_size=(2,2)))\n",
        "model.add(Flatten()) #takes output from previous layer and flatten it into a one dimensional tensor\n",
        "model.add(Dense(128,activation ='relu'))\n",
        "model.add(Dense(num_classes,activation ='softmax'))\n",
        "\n",
        "model.compile(loss=keras.losses.categorical_crossentropy,\n",
        "             optimizer=keras.optimizers.Adadelta(),metrics=['accuracy'])\n",
        "\n",
        "\n",
        "\n"
      ],
      "execution_count": 0,
      "outputs": []
    },
    {
      "cell_type": "markdown",
      "metadata": {
        "id": "a0rwqnGZg_Al",
        "colab_type": "text"
      },
      "source": [
        "**Train Model**"
      ]
    },
    {
      "cell_type": "code",
      "metadata": {
        "id": "Ju6jBllk_IPh",
        "colab_type": "code",
        "colab": {}
      },
      "source": [
        "model.summary()\n",
        "model.fit(x_train,y_train,\n",
        "         batch_size= batch_size,\n",
        "         epochs=epochs,\n",
        "         verbose=2,\n",
        "         validation_data=(x_test,y_test))\n",
        "score=model.evaluate(x_test,y_test)\n",
        "print(score)\n"
      ],
      "execution_count": 0,
      "outputs": []
    },
    {
      "cell_type": "code",
      "metadata": {
        "id": "OTcH9sjsAZrB",
        "colab_type": "code",
        "colab": {}
      },
      "source": [
        ""
      ],
      "execution_count": 0,
      "outputs": []
    }
  ]
}