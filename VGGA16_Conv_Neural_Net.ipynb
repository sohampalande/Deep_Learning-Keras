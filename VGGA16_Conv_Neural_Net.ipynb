{
  "nbformat": 4,
  "nbformat_minor": 0,
  "metadata": {
    "colab": {
      "name": "VGGA16_Conv_Neural_Net.ipynb",
      "provenance": [],
      "collapsed_sections": [],
      "include_colab_link": true
    },
    "kernelspec": {
      "name": "python3",
      "display_name": "Python 3"
    },
    "accelerator": "GPU"
  },
  "cells": [
    {
      "cell_type": "markdown",
      "metadata": {
        "id": "view-in-github",
        "colab_type": "text"
      },
      "source": [
        "<a href=\"https://colab.research.google.com/github/sohampalande/Deep_Learning-Keras/blob/master/VGGA16_Conv_Neural_Net.ipynb\" target=\"_parent\"><img src=\"https://colab.research.google.com/assets/colab-badge.svg\" alt=\"Open In Colab\"/></a>"
      ]
    },
    {
      "cell_type": "markdown",
      "metadata": {
        "id": "34Gz2XcteoC3",
        "colab_type": "text"
      },
      "source": [
        "**Import** **Packages**"
      ]
    },
    {
      "cell_type": "code",
      "metadata": {
        "id": "wK_6I6ot23kZ",
        "colab_type": "code",
        "colab": {}
      },
      "source": [
        "import keras\n",
        "from keras.datasets import mnist\n",
        "from keras.models import Sequential\n",
        "from keras.layers import Dense, Flatten, Conv2D, MaxPooling2D\n",
        "from keras import backend as K\n",
        "from keras.optimizers import Adam\n",
        "#Constants\n",
        "batch_size=128\n",
        "num_classes=10\n",
        "epochs=12\n",
        "img_rows,img_cols=28,28\n",
        "channels=1\n"
      ],
      "execution_count": 0,
      "outputs": []
    },
    {
      "cell_type": "markdown",
      "metadata": {
        "id": "DWMx47b-ewbO",
        "colab_type": "text"
      },
      "source": [
        "**Preprocess the Data**"
      ]
    },
    {
      "cell_type": "code",
      "metadata": {
        "id": "HDcfTE3S4JZ9",
        "colab_type": "code",
        "colab": {}
      },
      "source": [
        "#Load In Data\n",
        "(x_train,y_train),(x_test,y_test)=mnist.load_data()\n",
        "\n",
        "#Normalize and Format Data\n",
        "x_train = x_train.reshape(x_train.shape[0], img_rows, img_cols, channels).astype(\"float32\") / 255\n",
        "x_test = x_test.reshape(x_test.shape[0], img_rows, img_cols, channels).astype(\"float32\") / 255\n",
        "image_shape=(img_rows, img_cols, channels)\n",
        "\n",
        "#One hot Encoding\n",
        "y_train=keras.utils.to_categorical(y_train, num_classes)\n",
        "y_test=keras.utils.to_categorical(y_test, num_classes)\n",
        "\n"
      ],
      "execution_count": 0,
      "outputs": []
    },
    {
      "cell_type": "markdown",
      "metadata": {
        "id": "GYx7IPukfMbv",
        "colab_type": "text"
      },
      "source": [
        "**Build Model**"
      ]
    },
    {
      "cell_type": "code",
      "metadata": {
        "id": "8e9IiEso6vza",
        "colab_type": "code",
        "colab": {}
      },
      "source": [
        "#Build model\n",
        "model=Sequential()\n",
        "model.add(Conv2D(32, kernel_size=(3,3), activation='relu',input_shape=image_shape))\n",
        "model.add(Conv2D(32, kernel_size=(3,3), activation='relu'))\n",
        "model.add(MaxPooling2D(pool_size=(2,2)))\n",
        "model.add(Flatten()) #takes output from previous layer and flatten it into a one dimensional tensor\n",
        "model.add(Dense(128,activation ='relu'))\n",
        "model.add(Dense(num_classes,activation ='softmax'))\n",
        "\n",
        "model.compile(loss=keras.losses.categorical_crossentropy,\n",
        "             optimizer=keras.optimizers.Adadelta(),metrics=['accuracy'])\n",
        "\n",
        "\n",
        "\n"
      ],
      "execution_count": 0,
      "outputs": []
    },
    {
      "cell_type": "markdown",
      "metadata": {
        "id": "a0rwqnGZg_Al",
        "colab_type": "text"
      },
      "source": [
        "**Train Model**"
      ]
    },
    {
      "cell_type": "code",
      "metadata": {
        "id": "Ju6jBllk_IPh",
        "colab_type": "code",
        "colab": {}
      },
      "source": [
        "model.summary()\n",
        "model.fit(x_train,y_train,\n",
        "         batch_size= batch_size,\n",
        "         epochs=epochs,\n",
        "         verbose=2,\n",
        "         validation_data=(x_test,y_test))\n",
        "score=model.evaluate(x_test,y_test)\n",
        "print(score)\n",
        "#This model wors fine but for more complex images we would require a much more complex Convolutional Neural Network\n",
        "#We will use the VGG16 classifier and tune it to predict images into two categories"
      ],
      "execution_count": 0,
      "outputs": []
    },
    {
      "cell_type": "markdown",
      "metadata": {
        "id": "8J0yyrE4tXmj",
        "colab_type": "text"
      },
      "source": [
        "**Building and Fine Tuning VGG16 Image Classifier**"
      ]
    },
    {
      "cell_type": "code",
      "metadata": {
        "id": "zeuebYx2vVYq",
        "colab_type": "code",
        "colab": {}
      },
      "source": [
        "#VGG16 won the 2016 Image NET Competition for image classification on 1000 categories\n",
        "from keras.applications.vgg16 import VGG16\n",
        "vgg16_model=VGG16()\n",
        "#keras has a library of fine tuned models which we can import for purposes of fine tuning \n",
        "#weights of the model are already defined\n"
      ],
      "execution_count": 0,
      "outputs": []
    },
    {
      "cell_type": "code",
      "metadata": {
        "id": "JxUhmWYPyA_1",
        "colab_type": "code",
        "colab": {}
      },
      "source": [
        "vgg16_model.summary()"
      ],
      "execution_count": 0,
      "outputs": []
    },
    {
      "cell_type": "code",
      "metadata": {
        "id": "WaNtHfL3yori",
        "colab_type": "code",
        "colab": {
          "base_uri": "https://localhost:8080/",
          "height": 34
        },
        "outputId": "bc8e1eee-2abb-4d19-94d7-c7a47ed86a9b"
      },
      "source": [
        "#model consists of multiple layers\n",
        "#note the last layer has 1000 output/classification categories\n",
        "#we want to tune the model to classify only on 2 categories\n",
        "type(vgg16_model)"
      ],
      "execution_count": 5,
      "outputs": [
        {
          "output_type": "execute_result",
          "data": {
            "text/plain": [
              "keras.engine.training.Model"
            ]
          },
          "metadata": {
            "tags": []
          },
          "execution_count": 5
        }
      ]
    },
    {
      "cell_type": "code",
      "metadata": {
        "id": "LJN2us4nzWM8",
        "colab_type": "code",
        "colab": {}
      },
      "source": [
        "#this is a model of type \"Model\" as opposed to being \"Sequential\" etc...\n",
        "#we will transform the model to a sequential model\n",
        "\n",
        "new_model=Sequential()   #create a new Sequential Model with no layers\n",
        "for layer in vgg16_model.layers:\n",
        "  new_model.add(layer)   #adds all the layers of the vgg16 model to the new_model\n",
        "new_model.summary()\n",
        "  \n",
        "  \n"
      ],
      "execution_count": 0,
      "outputs": []
    },
    {
      "cell_type": "code",
      "metadata": {
        "id": "cXeCqRCJz8he",
        "colab_type": "code",
        "colab": {
          "base_uri": "https://localhost:8080/",
          "height": 34
        },
        "outputId": "b94e4600-bdbc-4a5d-d8d0-f748bec2d309"
      },
      "source": [
        "new_model.layers.pop() #removes last layer (output layer) of the model"
      ],
      "execution_count": 9,
      "outputs": [
        {
          "output_type": "execute_result",
          "data": {
            "text/plain": [
              "<keras.layers.core.Dense at 0x7fca24909438>"
            ]
          },
          "metadata": {
            "tags": []
          },
          "execution_count": 9
        }
      ]
    },
    {
      "cell_type": "code",
      "metadata": {
        "id": "gSP1WQwR0rwT",
        "colab_type": "code",
        "colab": {}
      },
      "source": [
        "for layer in new_model.layers:\n",
        "  layer.trainable= False     #\"freezes\" the layers- their weights are not updated on future training\n",
        "\n",
        "#add new last layer which classifies into 2 categories\n",
        "new_model.add(Dense(2, activation='softmax'))\n"
      ],
      "execution_count": 0,
      "outputs": []
    },
    {
      "cell_type": "code",
      "metadata": {
        "id": "00mavXtj1aSv",
        "colab_type": "code",
        "colab": {}
      },
      "source": [
        "new_model.summary()  #model now has output into 2 categories"
      ],
      "execution_count": 0,
      "outputs": []
    },
    {
      "cell_type": "markdown",
      "metadata": {
        "id": "emGJed6u2zuC",
        "colab_type": "text"
      },
      "source": [
        "**Training Fine-Tuned VGG16 Model**"
      ]
    },
    {
      "cell_type": "code",
      "metadata": {
        "id": "bfn7ZZPE1lFR",
        "colab_type": "code",
        "colab": {}
      },
      "source": [
        "new_model.compile(Adam(lr=0.001), loss='categorical_crossentropy', metrics=['accuracy'])\n",
        "#Adam is the optimization function used to optimize the loss function \n"
      ],
      "execution_count": 0,
      "outputs": []
    },
    {
      "cell_type": "code",
      "metadata": {
        "id": "jfIY75_23Oeo",
        "colab_type": "code",
        "colab": {}
      },
      "source": [
        "#model.fit(x_train_data, y_train_data, epochs, verbose) - train the model \n",
        "#Predict on data using model.predict(x_test_data)"
      ],
      "execution_count": 0,
      "outputs": []
    }
  ]
}