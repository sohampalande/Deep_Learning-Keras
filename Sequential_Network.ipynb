{
  "nbformat": 4,
  "nbformat_minor": 0,
  "metadata": {
    "colab": {
      "name": "Sequential_Network.ipynb",
      "provenance": [],
      "collapsed_sections": [],
      "include_colab_link": true
    },
    "kernelspec": {
      "name": "python3",
      "display_name": "Python 3"
    }
  },
  "cells": [
    {
      "cell_type": "markdown",
      "metadata": {
        "id": "view-in-github",
        "colab_type": "text"
      },
      "source": [
        "<a href=\"https://colab.research.google.com/github/sohampalande/Sequential_Models_Deeplearn/blob/master/Sequential_Network.ipynb\" target=\"_parent\"><img src=\"https://colab.research.google.com/assets/colab-badge.svg\" alt=\"Open In Colab\"/></a>"
      ]
    },
    {
      "cell_type": "code",
      "metadata": {
        "id": "-bBn38jAp_mx",
        "colab_type": "code",
        "colab": {}
      },
      "source": [
        "#Import Required Libraries\n",
        "import keras\n",
        "from keras import backend as k\n",
        "from keras.models import Sequential\n",
        "from keras.layers import Activation\n",
        "from keras.layers.core import Dense\n",
        "from keras.optimizers import Adam\n",
        "from keras.metrics import categorical_crossentropy\n",
        "import numpy as np\n",
        "from random import randint\n",
        "from sklearn.preprocessing import MinMaxScaler\n",
        "\n"
      ],
      "execution_count": 0,
      "outputs": []
    },
    {
      "cell_type": "markdown",
      "metadata": {
        "id": "059dAaVpl8mL",
        "colab_type": "text"
      },
      "source": [
        "**Preprocessing the Data**"
      ]
    },
    {
      "cell_type": "code",
      "metadata": {
        "id": "akaSqHyjgr4e",
        "colab_type": "code",
        "colab": {}
      },
      "source": [
        "train_labels=[]\n",
        "train_samples=[]"
      ],
      "execution_count": 0,
      "outputs": []
    },
    {
      "cell_type": "code",
      "metadata": {
        "id": "7p5qAzP0gtf1",
        "colab_type": "code",
        "colab": {}
      },
      "source": [
        "#Create Artificial Data\n",
        "\n",
        "for i in range(50):\n",
        "  random_younger=randint(13,64)\n",
        "  train_samples.append(random_younger)\n",
        "  train_labels.append(1)\n",
        "  \n",
        "  random_older=randint(65,100)\n",
        "  train_samples.append(random_older)\n",
        "  train_labels.append(0)\n",
        "  \n",
        "for i in range(1000):\n",
        "  random_younger=randint(13,64)\n",
        "  train_samples.append(random_younger)\n",
        "  train_labels.append(0)\n",
        "  \n",
        "  random_older = randint(65,100)\n",
        "  train_samples.append(random_older)\n",
        "  train_labels.append(1)\n",
        "  \n",
        "  "
      ],
      "execution_count": 0,
      "outputs": []
    },
    {
      "cell_type": "code",
      "metadata": {
        "id": "4FU4VrGPgv3g",
        "colab_type": "code",
        "colab": {}
      },
      "source": [
        "#Processing the Data\n",
        "#Keras requires the labels to be a numpy array and the samples to be a numpy array or a list of numpy arrays\n",
        "\n",
        "train_labels=np.array(train_labels)\n",
        "train_samples=np.array(train_samples)\n"
      ],
      "execution_count": 0,
      "outputs": []
    },
    {
      "cell_type": "code",
      "metadata": {
        "id": "soclVSRUgyFv",
        "colab_type": "code",
        "colab": {}
      },
      "source": [
        "#Scale the Data so the Neural Network Can learn/perform better \n",
        "#Perform feature scaling using scikitlearn's scaler class MinMaxScaler\n",
        "\n",
        "#instantiate a scaler variable \n",
        "scaler=MinMaxScaler(feature_range=(0,1))\n",
        "#scale the samples using the scaler \n",
        "scaled_train_samples=scaler.fit_transform((train_samples).reshape(-1,1))\n"
      ],
      "execution_count": 0,
      "outputs": []
    },
    {
      "cell_type": "markdown",
      "metadata": {
        "id": "qD_ys32al4Yo",
        "colab_type": "text"
      },
      "source": [
        "**Building the Model**\n"
      ]
    },
    {
      "cell_type": "code",
      "metadata": {
        "id": "fq-lf5VItA05",
        "colab_type": "code",
        "colab": {}
      },
      "source": [
        "#Create model\n",
        "#the sequential model is a linear stack of layers (of the neural network)\n",
        "#each element of the array is a layer of the network/ can also be done using model.add()\n",
        "model=Sequential([\n",
        "    Dense(16, input_shape=(1,), activation='relu'),  #input layer\n",
        "    Dense(32, activation='relu'),                    #hidden layer\n",
        "    Dense(2, activation='softmax')                   #output layer  2 units because our data is labeled with two labels so the output can be any one of these\n",
        "])\n"
      ],
      "execution_count": 0,
      "outputs": []
    },
    {
      "cell_type": "code",
      "metadata": {
        "id": "IImq_9BhwzxT",
        "colab_type": "code",
        "colab": {}
      },
      "source": [
        "model.summary()"
      ],
      "execution_count": 0,
      "outputs": []
    },
    {
      "cell_type": "code",
      "metadata": {
        "id": "hCnCqQFrw3U8",
        "colab_type": "code",
        "colab": {
          "base_uri": "https://localhost:8080/",
          "height": 54
        },
        "outputId": "fede7391-743d-4c72-c4f7-a63d2ea1a442"
      },
      "source": [
        "model.compile(Adam(lr=.0001), loss='sparse_categorical_crossentropy', metrics=['accuracy'])  \n",
        "\"\"\"the parameter 'Adam' is the optimization function for the cost/loss function that you want to use ex: gradient descent, stochastic gradient descent...\n",
        "the loss function being used is the sparse_categorical_crossentropy (other example: mean squared error cost function) and the learning rate is 0.0001\"\"\"\n",
        "#metrics evaluates the performance of the model based on accuracy\n",
        "\n",
        "    "
      ],
      "execution_count": 41,
      "outputs": [
        {
          "output_type": "execute_result",
          "data": {
            "text/plain": [
              "\"the parameter 'Adam' is the optimization function for the cost/loss function that you want to use ex: gradient descent, stochastic gradient descent...\\nthe loss function being used is the sparse_categorical_crossentropy (other example: mean squared error cost function) and the learning rate is 0.0001\""
            ]
          },
          "metadata": {
            "tags": []
          },
          "execution_count": 41
        }
      ]
    },
    {
      "cell_type": "code",
      "metadata": {
        "id": "yup-UEszzgqd",
        "colab_type": "code",
        "colab": {}
      },
      "source": [
        "#after compiling, we train the model on the preprocessed data\n",
        "#batch size: instead of looking at each sample one by one the model analyses the samples in batches\n",
        "#EPOCH is the run thorugh the data -> the number of training runs through the data\n",
        "#shuffle : the data that the model will iterate over in each training run(EPOCH) will be in a different order default is true\n",
        "#ex : during gradient descent the model might converge to values of weights that are not the most optimum(so shuffling can address this).\n",
        "#verbose=how much output for each run of the model training \n",
        "#vallidation_split the function will split 0.1 or 10% of the data as the validation set for every traning run (epoch)\n",
        "model.fit(scaled_train_samples, train_labels,validation_split=0.1, batch_size=10, epochs=20, shuffle='true', verbose=2)"
      ],
      "execution_count": 0,
      "outputs": []
    },
    {
      "cell_type": "code",
      "metadata": {
        "id": "usEyOoSIhVV5",
        "colab_type": "code",
        "colab": {}
      },
      "source": [
        "#Creating a Validation Set\n",
        "#Don't train on validation set, use it only to \"validate\" the model on unseen data\n",
        "#The model will predict on the validation set during each traning run (epoch). We will see the loss and accuracy for the validation set as well\n",
        "#prevents overfitting \n",
        "\n",
        "\n"
      ],
      "execution_count": 0,
      "outputs": []
    },
    {
      "cell_type": "markdown",
      "metadata": {
        "id": "_mgTkK45luqY",
        "colab_type": "text"
      },
      "source": [
        "**Making** **Predictions**\n"
      ]
    },
    {
      "cell_type": "code",
      "metadata": {
        "id": "ajseOiIJl0Sh",
        "colab_type": "code",
        "colab": {}
      },
      "source": [
        "#To make predictions, we need test data/test set. (We have a training set and a cross-validation set )\n",
        "test_samples=[]\n",
        "test_labels=[]\n",
        "\n",
        "#Create artfical test data\n",
        "for i in range(50):\n",
        "  random_younger=randint(13,64)\n",
        "  test_samples.append(random_younger)\n",
        "  test_labels.append(1)\n",
        "  \n",
        "  random_older=randint(65,100)\n",
        "  test_samples.append(random_older)\n",
        "  test_labels.append(0)\n",
        "  \n",
        "for i in range(1000):\n",
        "  random_younger=randint(13,64)\n",
        "  test_samples.append(random_younger)\n",
        "  test_labels.append(0)\n",
        "  \n",
        "  random_older = randint(65,100)\n",
        "  test_samples.append(random_older)\n",
        "  test_labels.append(1)\n",
        "  "
      ],
      "execution_count": 0,
      "outputs": []
    },
    {
      "cell_type": "code",
      "metadata": {
        "id": "JPlA1J17nNTI",
        "colab_type": "code",
        "colab": {}
      },
      "source": [
        "#Convert label data and sample data into numpy arrays\n",
        "test_labels=np.array(test_labels)\n",
        "test_samples=np.array(test_samples)\n"
      ],
      "execution_count": 0,
      "outputs": []
    },
    {
      "cell_type": "code",
      "metadata": {
        "id": "XSFUnt6vnexM",
        "colab_type": "code",
        "colab": {}
      },
      "source": [
        "#scale the data\n",
        "scaler=MinMaxScaler(feature_range=(0,1))\n",
        "scaled_test_samples=scaler.fit_transform((test_samples).reshape(-1,1))\n",
        "\n"
      ],
      "execution_count": 0,
      "outputs": []
    },
    {
      "cell_type": "code",
      "metadata": {
        "id": "lN-BmAT-n2B9",
        "colab_type": "code",
        "colab": {}
      },
      "source": [
        "#Predict\n",
        "#use the predict function to make the predictions\n",
        "#model is the variable model that refers to the model we trained in the above steps\n",
        "predictions=model.predict(scaled_test_samples, batch_size=10, verbose=0)\n",
        "\n"
      ],
      "execution_count": 0,
      "outputs": []
    },
    {
      "cell_type": "code",
      "metadata": {
        "id": "sdDFeS0RoMB-",
        "colab_type": "code",
        "colab": {}
      },
      "source": [
        "#the predictions are the probabilities of the data being a 0 or 1 - hence each row adds up to one.\n",
        "#we can round the predictions\n",
        "for i in predictions:\n",
        "  print(i)\n",
        "  "
      ],
      "execution_count": 0,
      "outputs": []
    },
    {
      "cell_type": "code",
      "metadata": {
        "id": "ZNiWHUlQpFFg",
        "colab_type": "code",
        "colab": {}
      },
      "source": [
        "#the model rounds the predictions and gives the prediction as a class (0,1)\n",
        "rounded_predictions=model.predict_classes(scaled_test_samples, batch_size=10, verbose=0)"
      ],
      "execution_count": 0,
      "outputs": []
    },
    {
      "cell_type": "code",
      "metadata": {
        "id": "kyu7hJPtqFPK",
        "colab_type": "code",
        "colab": {}
      },
      "source": [
        "for i in rounded_predictions:\n",
        "  print(i)"
      ],
      "execution_count": 0,
      "outputs": []
    },
    {
      "cell_type": "markdown",
      "metadata": {
        "id": "02zzkc1oqhvl",
        "colab_type": "text"
      },
      "source": [
        "**Evaluating the Predictions Against Our Labels Using a Confusion Matrix** "
      ]
    },
    {
      "cell_type": "code",
      "metadata": {
        "id": "xu-79lscqv75",
        "colab_type": "code",
        "colab": {}
      },
      "source": [
        "#allows us to plot within the notebook\n",
        "%matplotlib inline     \n",
        "from sklearn.metrics import confusion_matrix\n",
        "import itertools\n",
        "import matplotlib.pyplot as plt\n",
        "#a confusion matrix allows you to evaluate the performance of a classification model when the true values of the test data are known"
      ],
      "execution_count": 0,
      "outputs": []
    },
    {
      "cell_type": "code",
      "metadata": {
        "id": "GSPIPAv-yWya",
        "colab_type": "code",
        "colab": {}
      },
      "source": [
        "cm=confusion_matrix(test_labels, rounded_predictions)\n",
        "#plot function from sklern website\n",
        "def plot_confusion_matrix(cm, classes,\n",
        "                          normalize=False,\n",
        "                          title=None,\n",
        "                          cmap=plt.cm.Blues):\n",
        "    \"\"\"\n",
        "    This function prints and plots the confusion matrix.\n",
        "    Normalization can be applied by setting `normalize=True`.\n",
        "    \"\"\"\n",
        "    plt.imshow(cm,interpolation='nearest',cmap=cmap)\n",
        "    plt.title(title)\n",
        "    plt.colorbar()\n",
        "    tick_marks=np.arange(len(classes))\n",
        "    plt.xticks(tick_marks, classes, rotation=45)\n",
        "    plt.yticks(tick_marks, classes)\n",
        "    \n",
        "    if normalize:\n",
        "      cm=cm.astype('float')/cm.sum(axis=1)[:,np.newaxis]\n",
        "      print(\"Normalized confusion Matrix\")\n",
        "    else :\n",
        "      print(\"Confusion Matrix, without Normalization\")\n",
        "      \n",
        "      print(cm)\n",
        "      thresh=cm.max()/2\n",
        "      for i, j in itertools.product(range(cm.shape[0]), range(cm.shape[1])):\n",
        "        plt.text(j, i, cm[i,j]),\n",
        "        horizontalalignment=\"center\"\n",
        "        color=\"white\" if cm[i,j]> thresh else \"black\"\n",
        "            \n",
        "      plt.tight_layout()\n",
        "      plt.ylabel('True Label')\n",
        "      plt.xlabel('Predicted Label')\n",
        "      \n",
        "      \n",
        "    \n"
      ],
      "execution_count": 0,
      "outputs": []
    },
    {
      "cell_type": "code",
      "metadata": {
        "id": "REoXfRGw0VG2",
        "colab_type": "code",
        "colab": {
          "base_uri": "https://localhost:8080/",
          "height": 362
        },
        "outputId": "dcce0630-af47-48d3-947a-dfba4b6882fc"
      },
      "source": [
        "cm_plot_labels=['no_side_efects','side_effects']\n",
        "plot_confusion_matrix(cm,cm_plot_labels, title='Confusion Matrix')\n"
      ],
      "execution_count": 92,
      "outputs": [
        {
          "output_type": "stream",
          "text": [
            "Confusion Matrix, without Normalization\n",
            "[[ 943  107]\n",
            " [  46 1004]]\n"
          ],
          "name": "stdout"
        },
        {
          "output_type": "display_data",
          "data": {
            "image/png": "[encoded data removed]",
            "text/plain": [
              "<Figure size 432x288 with 2 Axes>"
            ]
          },
          "metadata": {
            "tags": []
          }
        }
      ]
    },
    {
      "cell_type": "markdown",
      "metadata": {
        "id": "PYeJfDjBQCJq",
        "colab_type": "text"
      },
      "source": [
        "**Save and Load Keras Model**"
      ]
    },
    {
      "cell_type": "code",
      "metadata": {
        "id": "x9CqRBbcQBTd",
        "colab_type": "code",
        "colab": {}
      },
      "source": [
        "#model.save\n",
        "model.save('medical_trial.h5') \n",
        "#use a .h5 file extension for the file location \n",
        "#if no path is passed then the model is saved to the current directory\n",
        "#preserves: the architecture of the model, the weights of the model, the cost function, optimizer function and learning rate, and \n",
        "#state of the optimizer which allows it to begin traning where it left off"
      ],
      "execution_count": 0,
      "outputs": []
    },
    {
      "cell_type": "code",
      "metadata": {
        "id": "5n_WFWNsRV5E",
        "colab_type": "code",
        "colab": {}
      },
      "source": [
        "#load new model\n",
        "from keras.models import load_model\n",
        "new_model=load_model('medical_trial.h5')\n"
      ],
      "execution_count": 0,
      "outputs": []
    },
    {
      "cell_type": "code",
      "metadata": {
        "id": "Q9G6NSonTLrp",
        "colab_type": "code",
        "colab": {
          "base_uri": "https://localhost:8080/",
          "height": 255
        },
        "outputId": "7d251a7b-dc58-4534-e4db-8708de630e82"
      },
      "source": [
        "new_model.summary()   #the model is the same as the original model"
      ],
      "execution_count": 99,
      "outputs": [
        {
          "output_type": "stream",
          "text": [
            "Model: \"sequential_4\"\n",
            "_________________________________________________________________\n",
            "Layer (type)                 Output Shape              Param #   \n",
            "=================================================================\n",
            "dense_10 (Dense)             (None, 16)                32        \n",
            "_________________________________________________________________\n",
            "dense_11 (Dense)             (None, 32)                544       \n",
            "_________________________________________________________________\n",
            "dense_12 (Dense)             (None, 2)                 66        \n",
            "=================================================================\n",
            "Total params: 642\n",
            "Trainable params: 642\n",
            "Non-trainable params: 0\n",
            "_________________________________________________________________\n"
          ],
          "name": "stdout"
        }
      ]
    },
    {
      "cell_type": "code",
      "metadata": {
        "id": "6oemXUK4TZOu",
        "colab_type": "code",
        "colab": {}
      },
      "source": [
        ""
      ],
      "execution_count": 0,
      "outputs": []
    }
  ]
}